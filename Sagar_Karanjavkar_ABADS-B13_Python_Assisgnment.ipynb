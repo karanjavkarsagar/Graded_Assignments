{
 "cells": [
  {
   "cell_type": "code",
   "execution_count": null,
   "id": "fa2742df",
   "metadata": {},
   "outputs": [],
   "source": [
    "import pandas as pd"
   ]
  },
  {
   "cell_type": "code",
   "execution_count": null,
   "id": "9fcd0670",
   "metadata": {},
   "outputs": [],
   "source": [
    "import numpy as np"
   ]
  },
  {
   "cell_type": "code",
   "execution_count": null,
   "id": "6faab975",
   "metadata": {},
   "outputs": [],
   "source": [
    "import matplotlib.pyplot as plt"
   ]
  },
  {
   "cell_type": "code",
   "execution_count": null,
   "id": "e667f9fc",
   "metadata": {},
   "outputs": [],
   "source": [
    "df = pd.read_csv('Bank Personal Loan Modelling (1).csv')"
   ]
  },
  {
   "cell_type": "code",
   "execution_count": null,
   "id": "9e2a3628",
   "metadata": {},
   "outputs": [],
   "source": [
    "# 1.  A statistics test was conducted for 10 learners in a class. The mean of their score is 85 and the variance of the\n",
    "#     score is zero. What can you interpret about the score obtained by all learners?\n",
    "\n",
    "# The variance of the score is zero that indicates all learners achieved the exact same score in the statistics test, which\n",
    "#     means there was no variation or spread in the data, and everyone scored 85.\n"
   ]
  },
  {
   "cell_type": "code",
   "execution_count": null,
   "id": "c5a2cf43",
   "metadata": {},
   "outputs": [],
   "source": [
    "# 2.  In a residential locality, the mean size of the house is 2224 square feet and the median value of the house is 1500\n",
    "#     square feet. What can you interpret about the skewness in the distribution of house size? Are there bigger or smaller\n",
    "#     houses in the residential locality?\n",
    "\n",
    "# If the mean is greater than the median indicates that the distribution of house sizes is skewed to the right(positive\n",
    "#     skewed). This means there are a few larger houses that are pulling the mean up, while the median is lower. Therefore,\n",
    "#     there are likely more smaller houses in the residential locality, but there are also a few significantly larger houses\n",
    "#     that are skewing the distribution to the right.\n"
   ]
  },
  {
   "cell_type": "code",
   "execution_count": null,
   "id": "9ab6e347",
   "metadata": {},
   "outputs": [],
   "source": [
    "# 3. The following table shows the mean and variance of the expenditure for two groups of people. You want to compare the\n",
    "#     variability in expenditure for both groups with respect to their mean. Which statistical measure would you use to\n",
    "#     evaluate the variability in expenditure? Please provide an explanation for your answer.\n",
    "\n",
    "# I will use the Coefficient of variaton to compare the variability in expenditure for both group w.r.t. their mean\n",
    "#     Reasoning:\n",
    "#     a) CV is a relative measure of dispersion, which means it expresses the standard deviation as a percentage of the mean.\n",
    "#     This makes it ideal for comparing variability across different groups.\n",
    "#     b) A higher CV means greater variability, while a lower CV means less variability, even if the standard deviations\n",
    "#     are similar.\n",
    "#     Formula for CV:\n",
    "#     CV = (Standard Deviation / Mean) * 100\n",
    "#     Group I: CV = (125,000 / 500,000) * 100 = 25%\n",
    "#     Group II: CV = (10,000 / 40,000) * 100 = 25%\n",
    "#     Interpretation:\n",
    "#     Both groups have the same coefficient of variation (25%), indicating that the variability in expenditure relative to\n",
    "#     the mean is the same for both groups. Even though Group I has a higher standard deviation, its mean is also much\n",
    "#     higher, resulting in the same relative variability.\n"
   ]
  },
  {
   "cell_type": "code",
   "execution_count": null,
   "id": "3b117d10",
   "metadata": {},
   "outputs": [],
   "source": [
    "# 4. During the survey, the ages of 80 patients infected by COVID and admitted to one of the city hospitals were recorded\n",
    "#    and the collected data is represented in the less than cumulative frequency distribution table.\n",
    "\n",
    "#   a. Which class interval has the highest frequency?1\n",
    "#   Answer: The class interval with the highest frequency is 35-45.\n",
    "\n",
    "#   b. Which age was affected the least?\n",
    "#   Answer: The age group affected the least is 55-65.\n",
    "\n",
    "#   c. How many patients aged 45 years and above were admitted?\n",
    "#   Answer: There were 29 patients aged 45 years and above admitted. (14 + 5 = 19)\n",
    "\n",
    "#   d. Which is the modal class interval in the above dataset?\n",
    "#   Answer: The modal class interval is 35-45 as it has the highest frequency.\n",
    "\n",
    "#   e. What is the median class interval of age?\n",
    "#   Answer:The total number of patients is 80. The median position is 80/2 = 40. The cumulative frequency closest to 40 is 43,\n",
    "#   which falls in the class interval 35-45. Therefore, the median class interval is 35-45."
   ]
  },
  {
   "cell_type": "code",
   "execution_count": null,
   "id": "d7329acc",
   "metadata": {},
   "outputs": [],
   "source": [
    "# 5. Assume you are the trader and you have invested over the years, and you are worried about the average return on\n",
    "#    investment. What average method would you use to compute the average return for the data given below?\n",
    "# Assuming the asset prise to be the Asset value on that particular year and not the addon investment with returns to be\n",
    "#    taken out of the investment then\n",
    "#    then returns will be 5000 * 36% = 1800, 6400 * 23% = 1472, 7890 * -48% = -3787, 9023 * -30% = -2707, 4567 * 15% = 685, 3890 * 31% = 1206\n",
    "#    Summing the returns cost 1800 + 1472 - 3787 - 2707 + 685 + 1206 = -1331\n",
    "#    Calculating the percent w.r.t. the investment in year 2015 : -1331/5000 = -26.6% "
   ]
  },
  {
   "cell_type": "code",
   "execution_count": null,
   "id": "8447c32a",
   "metadata": {},
   "outputs": [],
   "source": [
    "# 6. Suppose you have been told to measure the average height of all the males on the earth. What would be your strategy for\n",
    "#    the same? Would the average height be a parameter or a statistic? Justify your answer.\n",
    "\n",
    "# Measuring Average Height of All Earthly Males: A Statistical Challenge\n",
    "#    Strategy:\n",
    "\n",
    "#    Given the impossibility of measuring every male on Earth, a statistical approach would be necessary. Here's a potential strategy:\n",
    "\n",
    "#    Random Sampling: Select a random sample of males from various regions, countries, and demographics to ensure a representative sample.\n",
    "#    Sample Size: Determine an appropriate sample size based on desired accuracy and statistical principles.\n",
    "#    Measurement: Measure the heights of all individuals in the sample.\n",
    "#    Calculation: Calculate the mean height of the sample.\n",
    "#    Parameter vs. Statistic:\n",
    "\n",
    "#    Parameter: The true average height of all males on Earth is a parameter. It's a fixed value that describes the entire population.\n",
    "#    Statistic: The average height calculated from the sample is a statistic. It's an estimate of the population parameter based on the sample data.\n",
    "#    Justification:\n",
    "\n",
    "#    Since we cannot measure every male on Earth, we can only estimate the true average height using a sample. Therefore, the average height calculated from the sample is a statistic. It's an approximation of the population parameter.\n",
    "\n",
    "#    Key Points:\n",
    "\n",
    "#    Accuracy: The accuracy of the estimate depends on the representativeness of the sample and the sample size.\n",
    "#    Margin of Error: A larger sample size generally leads to a smaller margin of error, meaning the estimate is closer to the true population parameter.\n",
    "#    Confidence Interval: To quantify the uncertainty, a confidence interval can be calculated around the sample mean. This provides a range of values within which the true population parameter is likely to lie.\n",
    "#    By following this strategy and understanding the distinction between parameters and statistics, we can make reasonable estimates about the average height of all males on Earth."
   ]
  },
  {
   "cell_type": "code",
   "execution_count": null,
   "id": "eb335904",
   "metadata": {},
   "outputs": [],
   "source": [
    "# 7. Calculate the z score of the following numbers:\n",
    "\n",
    "X = [4.5, 6.2, 7.3, 9.1, 10.4, 11]\n",
    "\n",
    "mean = np.mean(X)\n",
    "std = np.std(X)\n",
    "z_scores = (X - mean) / std\n",
    "print(\"z-scores:\", z_scores)"
   ]
  },
  {
   "cell_type": "code",
   "execution_count": null,
   "id": "619d2e77",
   "metadata": {},
   "outputs": [],
   "source": [
    "# 8. Give us the statistical summary for all the variables in the dataset.\n",
    "\n",
    "data = pd.read_csv(\"Bank Personal Loan Modelling (1).csv\")\n",
    "\n",
    "summary_stats = data.describe()\n",
    "print(summary_stats)"
   ]
  },
  {
   "cell_type": "code",
   "execution_count": null,
   "id": "47d8b065",
   "metadata": {},
   "outputs": [],
   "source": [
    "# 9. Evaluate the measures of central tendency and measures of dispersion for all the quantitative variables in the dataset.\n",
    "\n",
    "quantitative_vars = data.select_dtypes(include='number').columns\n",
    "mean = data[quantitative_vars].mean()\n",
    "median = data[quantitative_vars].median()\n",
    "mode = data[quantitative_vars].mode()\n",
    "variance = data[quantitative_vars].var()\n",
    "std_deviation = data[quantitative_vars].std()\n",
    "range = data[quantitative_vars].max() - data[quantitative_vars].min()\n",
    "\n",
    "print(\"Measures of Central Tendency:\")\n",
    "print(mean)\n",
    "print(median)\n",
    "print(mode)\n",
    "\n",
    "print(\"\\nMeasures of Dispersion:\")\n",
    "print(variance)\n",
    "print(std_deviation)\n",
    "print(range)"
   ]
  },
  {
   "cell_type": "code",
   "execution_count": null,
   "id": "823cb4c8",
   "metadata": {},
   "outputs": [],
   "source": [
    "# 10. What statistical method will you use to examine the presence of a linear relationship between age and experience\n",
    "#     variables? Also, create a plot to illustrate this relationship.\n",
    "\n",
    "# Calculate the correlation coefficient\n",
    "correlation = data['Age'].corr(data['Experience'])\n",
    "print(\"Correlation coefficient:\", correlation)\n",
    "\n",
    "# Create a scatter plot\n",
    "plt.scatter(data['Age'], data['Experience'])\n",
    "plt.xlabel(\"Age\")\n",
    "plt.ylabel(\"Experience\")\n",
    "plt.title(\"Scatter Plot of Age vs. Experience\")\n",
    "plt.show()"
   ]
  },
  {
   "cell_type": "code",
   "execution_count": null,
   "id": "e7807b33",
   "metadata": {},
   "outputs": [],
   "source": [
    "# 11. What is the most frequent family size observed in this dataset?\n",
    "\n",
    "most_frequent_family_size = data[\"Family\"].mode()\n",
    "print(\"Most frequent family size:\", most_frequent_family_size)"
   ]
  },
  {
   "cell_type": "code",
   "execution_count": null,
   "id": "d9e320c2",
   "metadata": {},
   "outputs": [],
   "source": [
    "# 12. What is the percentage of variation you can observe in the ‘Income’ variable?\n",
    "\n",
    "\n",
    "income_cv = data['Income'].std() / data['Income'].mean() * 100\n",
    "print(\"Coefficient of Variation for Income:\", income_cv)"
   ]
  },
  {
   "cell_type": "code",
   "execution_count": null,
   "id": "4a4edb9b",
   "metadata": {},
   "outputs": [],
   "source": [
    "# 13. The ‘Mortgage’ variable has a lot of zeroes. Impute with some business logical value that you feel fit for the data.\n",
    "\n",
    "# There are few ways of imputation, like impute with Fixed value or with Mode or with median. In this scenario we will\n",
    "#    consider impute with median, because if the data is skewed then imputing with the median can be a good choice.\n",
    "\n",
    "median_mortgage = data['Mortgage'].median()\n",
    "data['Mortgage'] = data['Mortgage'].fillna(median_mortgage)"
   ]
  },
  {
   "cell_type": "code",
   "execution_count": null,
   "id": "b618e40f",
   "metadata": {},
   "outputs": [],
   "source": [
    "# 14. Plot a density curve of the CCAvg variable for the customers who possess credit cards and write an interpretation\n",
    "#     about its distribution.\n",
    "\n",
    "import seaborn as sns\n",
    "credit_card_customers = data[data['CreditCard'] == 1]\n",
    "sns.kdeplot(data=credit_card_customers['CCAvg'], fill=True)\n",
    "plt.title('Density Plot of CCAvg for Credit Card Customers')\n",
    "plt.xlabel('Average Credit Card Spending')\n",
    "plt.ylabel('Density')\n",
    "plt.show()"
   ]
  },
  {
   "cell_type": "code",
   "execution_count": null,
   "id": "fec0c8a9",
   "metadata": {},
   "outputs": [],
   "source": [
    "# 15. Do you see any outliers in the dataset? If yes, what plot you would think will be suitable to showcase to the\n",
    "#     stakeholders?\n",
    "\n",
    "# \n",
    "sns.scatterplot(x='Mortgage', y='Income', data=data)\n",
    "plt.title(\"Scatter Plot of Income vs. Mortgage\")\n",
    "plt.show()"
   ]
  },
  {
   "cell_type": "code",
   "execution_count": null,
   "id": "8d17a5fc",
   "metadata": {},
   "outputs": [],
   "source": [
    "# 16. Give us the decile values of the variable ‘Income’ in the dataset.\n",
    "\n",
    "deciles = pd.qcut(data['Income'], 10, labels=False)\n",
    "print(deciles)"
   ]
  },
  {
   "cell_type": "code",
   "execution_count": null,
   "id": "8783dc4a",
   "metadata": {
    "scrolled": true
   },
   "outputs": [],
   "source": [
    "# 17. Give the IQR of all the variables which are quantitative and continuous.\n",
    "\n",
    "# This code will output the IQR for each continuous variable in our dataset.\n",
    "#    The IQR is a measure of dispersion that represents the range of the middle 50% of the data.\n",
    "#    It is calculated as the difference between the 75th percentile and the 25th percentile.\n",
    "quantitative_vars = data.select_dtypes(include='number').columns\n",
    "iqr = data[quantitative_vars].quantile(0.75) - data[quantitative_vars].quantile(0.25)\n",
    "print(\"IQR for each quantitative variable:\")\n",
    "print(iqr)\n",
    "\n",
    "continuous_vars = data.select_dtypes(include='number').columns\n",
    "iqr1 = data[continuous_vars].quantile(0.75) - data[continuous_vars].quantile(0.25)\n",
    "print(\"IQR for each continuous variable:\")\n",
    "print(iqr1)"
   ]
  },
  {
   "cell_type": "code",
   "execution_count": null,
   "id": "1e0a11dc",
   "metadata": {},
   "outputs": [],
   "source": [
    "# Do the higher-income holders spend more on credit cards?\n",
    "\n",
    "# we can see using the Scatter plot where we can plot Income vs Caredit card used\n",
    "correlation = data['Income'].corr(data['CCAvg'])\n",
    "\n",
    "# Print the correlation coefficient\n",
    "print(\"Correlation coefficient:\", correlation)\n",
    "\n",
    "# Create a scatter plot to visualize the relationship\n",
    "plt.scatter(data['Income'], data['CCAvg'])\n",
    "plt.xlabel(\"Income\")\n",
    "plt.ylabel(\"Average Credit Card Spending\")\n",
    "plt.title(\"Scatter Plot of Income vs CCAvg\")\n",
    "plt.show()\n",
    "\n",
    "# Below Scatter plot shows that the higher-income holders do not spend more on credit cards, instead lower income holders does"
   ]
  },
  {
   "cell_type": "code",
   "execution_count": null,
   "id": "5892c839",
   "metadata": {},
   "outputs": [],
   "source": [
    "# 18. How many customers use online banking? Do customers using bank internet facilities have higher incomes?\n",
    "\n",
    "\n",
    "# Count the number of customers using online banking\n",
    "num_online_customers = len(data[data['Online'] == 1])\n",
    "print(\"Number of customers using online banking:\", num_online_customers)\n",
    "\n",
    "# Calculate the correlation coefficient between 'Income' and 'Online'\n",
    "correlation = data['Income'].corr(data['Online'])\n",
    "print(\"Correlation coefficient:\", correlation)\n",
    "\n",
    "# Create a scatter plot to visualize the relationship\n",
    "plt.scatter(data['Income'], data['Online'])\n",
    "plt.xlabel(\"Income\")\n",
    "plt.ylabel(\"Online Banking Usage (1: Yes, 0: No)\")\n",
    "plt.title(\"Scatter Plot of Income vs. Online Banking\")\n",
    "plt.show()\n",
    "\n",
    "# Below Scatter plot shows that maximum customers in both the higher as well as lower-income holders do use the Bank\n",
    "#    internet facilities"
   ]
  },
  {
   "cell_type": "code",
   "execution_count": null,
   "id": "e6d6893e",
   "metadata": {},
   "outputs": [],
   "source": [
    "# 20. Using the z-score of the income variable, find out the number of observations outside the +-3σ.\n",
    "\n",
    "z_scores = (data['Income'] - data['Income'].mean()) / data['Income'].std()\n",
    "outliers = data[(z_scores > 3) | (z_scores < -3)]\n",
    "num_outliers = len(outliers)\n",
    "print(\"Number of outliers:\", num_outliers)"
   ]
  },
  {
   "cell_type": "code",
   "execution_count": null,
   "id": "a19bdddb",
   "metadata": {},
   "outputs": [],
   "source": []
  }
 ],
 "metadata": {
  "kernelspec": {
   "display_name": "Python 3 (ipykernel)",
   "language": "python",
   "name": "python3"
  },
  "language_info": {
   "codemirror_mode": {
    "name": "ipython",
    "version": 3
   },
   "file_extension": ".py",
   "mimetype": "text/x-python",
   "name": "python",
   "nbconvert_exporter": "python",
   "pygments_lexer": "ipython3",
   "version": "3.11.5"
  }
 },
 "nbformat": 4,
 "nbformat_minor": 5
}
