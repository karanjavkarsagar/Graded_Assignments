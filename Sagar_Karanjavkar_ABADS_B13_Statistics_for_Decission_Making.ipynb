{
 "cells": [
  {
   "cell_type": "code",
   "execution_count": 1,
   "id": "6d27d31b",
   "metadata": {},
   "outputs": [],
   "source": [
    "import pandas as pd\n",
    "import numpy as np\n",
    "import matplotlib.pyplot as plt\n",
    "import seaborn as sns"
   ]
  },
  {
   "cell_type": "code",
   "execution_count": 2,
   "id": "8a38988d",
   "metadata": {},
   "outputs": [],
   "source": [
    "df = pd.read_csv('property.csv')"
   ]
  },
  {
   "cell_type": "code",
   "execution_count": 3,
   "id": "f7a3e6c8",
   "metadata": {},
   "outputs": [
    {
     "name": "stdout",
     "output_type": "stream",
     "text": [
      "       Suburb           Address  Rooms Type      Price Method SellerG  \\\n",
      "0  Abbotsford      85 Turner St      2    h  1480000.0      S  Biggin   \n",
      "1  Abbotsford   25 Bloomburg St      2    h  1035000.0      S  Biggin   \n",
      "2  Abbotsford      5 Charles St      3    h  1465000.0     SP  Biggin   \n",
      "3  Abbotsford  40 Federation La      3    h   850000.0     PI  Biggin   \n",
      "4  Abbotsford       55a Park St      4    h  1600000.0     VB  Nelson   \n",
      "\n",
      "        Date  Distance  Postcode  ...  Bathroom  Car  Landsize  BuildingArea  \\\n",
      "0  3/12/2016       2.5    3067.0  ...       1.0  1.0     202.0           NaN   \n",
      "1  4/02/2016       2.5    3067.0  ...       1.0  0.0     156.0          79.0   \n",
      "2  4/03/2017       2.5    3067.0  ...       2.0  0.0     134.0         150.0   \n",
      "3  4/03/2017       2.5    3067.0  ...       2.0  1.0      94.0           NaN   \n",
      "4  4/06/2016       2.5    3067.0  ...       1.0  2.0     120.0         142.0   \n",
      "\n",
      "   YearBuilt  CouncilArea Lattitude  Longtitude             Regionname  \\\n",
      "0        NaN        Yarra  -37.7996    144.9984  Northern Metropolitan   \n",
      "1     1900.0        Yarra  -37.8079    144.9934  Northern Metropolitan   \n",
      "2     1900.0        Yarra  -37.8093    144.9944  Northern Metropolitan   \n",
      "3        NaN        Yarra  -37.7969    144.9969  Northern Metropolitan   \n",
      "4     2014.0        Yarra  -37.8072    144.9941  Northern Metropolitan   \n",
      "\n",
      "  Propertycount  \n",
      "0        4019.0  \n",
      "1        4019.0  \n",
      "2        4019.0  \n",
      "3        4019.0  \n",
      "4        4019.0  \n",
      "\n",
      "[5 rows x 21 columns]\n"
     ]
    }
   ],
   "source": [
    "print(df.head())"
   ]
  },
  {
   "cell_type": "code",
   "execution_count": 4,
   "id": "87d1ba1f",
   "metadata": {},
   "outputs": [
    {
     "name": "stdout",
     "output_type": "stream",
     "text": [
      "              Suburb        Address  Rooms Type      Price Method   SellerG  \\\n",
      "13575  Wheelers Hill   12 Strada Cr      4    h  1245000.0      S     Barry   \n",
      "13576   Williamstown  77 Merrett Dr      3    h  1031000.0     SP  Williams   \n",
      "13577   Williamstown    83 Power St      3    h  1170000.0      S     Raine   \n",
      "13578   Williamstown   96 Verdon St      4    h  2500000.0     PI   Sweeney   \n",
      "13579     Yarraville     6 Agnes St      4    h  1285000.0     SP   Village   \n",
      "\n",
      "             Date  Distance  Postcode  ...  Bathroom  Car  Landsize  \\\n",
      "13575  26/08/2017      16.7    3150.0  ...       2.0  2.0     652.0   \n",
      "13576  26/08/2017       6.8    3016.0  ...       2.0  2.0     333.0   \n",
      "13577  26/08/2017       6.8    3016.0  ...       2.0  4.0     436.0   \n",
      "13578  26/08/2017       6.8    3016.0  ...       1.0  5.0     866.0   \n",
      "13579  26/08/2017       6.3    3013.0  ...       1.0  1.0     362.0   \n",
      "\n",
      "       BuildingArea  YearBuilt  CouncilArea Lattitude  Longtitude  \\\n",
      "13575           NaN     1981.0          NaN -37.90562   145.16761   \n",
      "13576         133.0     1995.0          NaN -37.85927   144.87904   \n",
      "13577           NaN     1997.0          NaN -37.85274   144.88738   \n",
      "13578         157.0     1920.0          NaN -37.85908   144.89299   \n",
      "13579         112.0     1920.0          NaN -37.81188   144.88449   \n",
      "\n",
      "                       Regionname Propertycount  \n",
      "13575  South-Eastern Metropolitan        7392.0  \n",
      "13576        Western Metropolitan        6380.0  \n",
      "13577        Western Metropolitan        6380.0  \n",
      "13578        Western Metropolitan        6380.0  \n",
      "13579        Western Metropolitan        6543.0  \n",
      "\n",
      "[5 rows x 21 columns]\n"
     ]
    }
   ],
   "source": [
    "print(df.tail())"
   ]
  },
  {
   "cell_type": "code",
   "execution_count": 5,
   "id": "d4ad4ed8",
   "metadata": {},
   "outputs": [
    {
     "name": "stdout",
     "output_type": "stream",
     "text": [
      "<class 'pandas.core.frame.DataFrame'>\n",
      "RangeIndex: 13580 entries, 0 to 13579\n",
      "Data columns (total 21 columns):\n",
      " #   Column         Non-Null Count  Dtype  \n",
      "---  ------         --------------  -----  \n",
      " 0   Suburb         13580 non-null  object \n",
      " 1   Address        13580 non-null  object \n",
      " 2   Rooms          13580 non-null  int64  \n",
      " 3   Type           13580 non-null  object \n",
      " 4   Price          13580 non-null  float64\n",
      " 5   Method         13580 non-null  object \n",
      " 6   SellerG        13580 non-null  object \n",
      " 7   Date           13580 non-null  object \n",
      " 8   Distance       13580 non-null  float64\n",
      " 9   Postcode       13580 non-null  float64\n",
      " 10  Bedroom2       13580 non-null  float64\n",
      " 11  Bathroom       13580 non-null  float64\n",
      " 12  Car            13518 non-null  float64\n",
      " 13  Landsize       13580 non-null  float64\n",
      " 14  BuildingArea   7130 non-null   float64\n",
      " 15  YearBuilt      8205 non-null   float64\n",
      " 16  CouncilArea    12211 non-null  object \n",
      " 17  Lattitude      13580 non-null  float64\n",
      " 18  Longtitude     13580 non-null  float64\n",
      " 19  Regionname     13580 non-null  object \n",
      " 20  Propertycount  13580 non-null  float64\n",
      "dtypes: float64(12), int64(1), object(8)\n",
      "memory usage: 2.2+ MB\n",
      "None\n"
     ]
    }
   ],
   "source": [
    "print(df.info())"
   ]
  },
  {
   "cell_type": "code",
   "execution_count": 6,
   "id": "a19ce0b2",
   "metadata": {},
   "outputs": [
    {
     "name": "stdout",
     "output_type": "stream",
     "text": [
      "T-statistic: 1.0277020770199676\n",
      "P-value: 0.307483271305555\n",
      "Property price is same as $800,000.\n"
     ]
    }
   ],
   "source": [
    "import scipy.stats as stats  # Make sure this import is included\n",
    "\n",
    "# Filter the data for properties in Altona\n",
    "altona_data = df[df['Suburb'] == 'Altona']\n",
    "\n",
    "# Assume the typical property price is $800,000\n",
    "hypothesized_mean = 800000\n",
    "\n",
    "# Perform a one-sample t-test\n",
    "t_stat, p_value = stats.ttest_1samp(altona_data['Price'].dropna(), hypothesized_mean)\n",
    "\n",
    "# Output the t-statistic and p-value\n",
    "print(f\"T-statistic: {t_stat}\")\n",
    "print(f\"P-value: {p_value}\")\n",
    "\n",
    "# Interpretation\n",
    "if p_value <= 0.05:\n",
    "    print(\"Property price is significantly different from $800,000.\")\n",
    "else:\n",
    "    print(\"Property price is same as $800,000.\")\n"
   ]
  },
  {
   "cell_type": "code",
   "execution_count": 7,
   "id": "df6e7e6f",
   "metadata": {},
   "outputs": [
    {
     "name": "stdout",
     "output_type": "stream",
     "text": [
      "Warning: There are 8442 missing or invalid dates.\n",
      "T-statistic: 4.608647592396178\n",
      "P-value: 4.259096710154727e-06\n",
      "Reject the null hypothesis. There is a significant difference in property prices between summer and winter months in 2016.\n"
     ]
    },
    {
     "name": "stderr",
     "output_type": "stream",
     "text": [
      "C:\\Users\\hp\\AppData\\Local\\Temp\\ipykernel_11708\\2954441060.py:12: SettingWithCopyWarning: \n",
      "A value is trying to be set on a copy of a slice from a DataFrame.\n",
      "Try using .loc[row_indexer,col_indexer] = value instead\n",
      "\n",
      "See the caveats in the documentation: https://pandas.pydata.org/pandas-docs/stable/user_guide/indexing.html#returning-a-view-versus-a-copy\n",
      "  df_2016['Month'] = df_2016['Date'].dt.month\n",
      "C:\\Users\\hp\\AppData\\Local\\Temp\\ipykernel_11708\\2954441060.py:15: SettingWithCopyWarning: \n",
      "A value is trying to be set on a copy of a slice from a DataFrame.\n",
      "Try using .loc[row_indexer,col_indexer] = value instead\n",
      "\n",
      "See the caveats in the documentation: https://pandas.pydata.org/pandas-docs/stable/user_guide/indexing.html#returning-a-view-versus-a-copy\n",
      "  df_2016['Season'] = df_2016['Month'].apply(lambda x: 'Winter' if x in [10, 11, 12, 1, 2, 3] else 'Summer')\n"
     ]
    }
   ],
   "source": [
    "# Ensure the 'Date' column is in datetime format and handle errors\n",
    "df['Date'] = pd.to_datetime(df['Date'], errors='coerce')\n",
    "\n",
    "# Check if there are any NaT (Not a Time) values after conversion\n",
    "if df['Date'].isna().sum() > 0:\n",
    "    print(f\"Warning: There are {df['Date'].isna().sum()} missing or invalid dates.\")\n",
    "\n",
    "# Filter data for properties sold in 2016\n",
    "df_2016 = df[df['Date'].dt.year == 2016]\n",
    "\n",
    "# Extract month from the 'Date' column\n",
    "df_2016['Month'] = df_2016['Date'].dt.month\n",
    "\n",
    "# Classify months into Winter (October - March) and Summer (April - September)\n",
    "df_2016['Season'] = df_2016['Month'].apply(lambda x: 'Winter' if x in [10, 11, 12, 1, 2, 3] else 'Summer')\n",
    "\n",
    "# Separate the prices for Winter and Summer months\n",
    "winter_prices = df_2016[df_2016['Season'] == 'Winter']['Price'].dropna()\n",
    "summer_prices = df_2016[df_2016['Season'] == 'Summer']['Price'].dropna()\n",
    "\n",
    "# Perform a two-sample t-test to compare the means of Winter and Summer prices\n",
    "t_stat, p_value = stats.ttest_ind(winter_prices, summer_prices)\n",
    "\n",
    "# Output the t-statistic and p-value\n",
    "print(f\"T-statistic: {t_stat}\")\n",
    "print(f\"P-value: {p_value}\")\n",
    "\n",
    "# Interpretation\n",
    "if p_value <= 0.05:\n",
    "    print(\"Reject the null hypothesis. There is a significant difference in property prices between summer and winter months in 2016.\")\n",
    "else:\n",
    "    print(\"Fail to reject the null hypothesis. There is no significant difference in property prices between summer and winter months in 2016.\")"
   ]
  },
  {
   "cell_type": "code",
   "execution_count": 8,
   "id": "155cecfa",
   "metadata": {},
   "outputs": [
    {
     "name": "stdout",
     "output_type": "stream",
     "text": [
      "Probability that exactly 3 out of 10 properties sold in Abbotsford will not have car parking: 0.260\n"
     ]
    }
   ],
   "source": [
    "# Filter data for properties in Abbotsford\n",
    "abbotsford_data = df[df['Suburb'] == 'Abbotsford']\n",
    "\n",
    "# Calculate the probability of a property not having car parking (Car == 0 or NaN)\n",
    "# First, consider the properties where Car is either 0 or NaN (no parking)\n",
    "no_car_parking = abbotsford_data['Car'].isna() | (abbotsford_data['Car'] == 0)\n",
    "\n",
    "# Calculate the proportion of properties with no car parking\n",
    "p_no_car_parking = no_car_parking.mean()\n",
    "\n",
    "# Number of trials (properties sold) and number of \"successes\" (properties without car parking)\n",
    "n = 10  # Number of properties\n",
    "k = 3   # Number of properties without car parking\n",
    "\n",
    "# Use binomial distribution formula to calculate the probability\n",
    "binomial_prob = stats.binom.pmf(k, n, p_no_car_parking)\n",
    "\n",
    "# Output the probability rounded to 3 decimal places\n",
    "print(f\"Probability that exactly 3 out of 10 properties sold in Abbotsford will not have car parking: {binomial_prob:.3f}\")"
   ]
  },
  {
   "cell_type": "code",
   "execution_count": 9,
   "id": "261dc8b0",
   "metadata": {},
   "outputs": [
    {
     "name": "stdout",
     "output_type": "stream",
     "text": [
      "Probability of finding a property with 3 rooms in Abbotsford: 0.357\n"
     ]
    }
   ],
   "source": [
    "# Calculate the proportion of properties with exactly 3 rooms\n",
    "p_three_rooms = (abbotsford_data['Rooms'] == 3).mean()\n",
    "\n",
    "# Output the probability rounded to 3 decimal places\n",
    "print(f\"Probability of finding a property with 3 rooms in Abbotsford: {p_three_rooms:.3f}\")"
   ]
  },
  {
   "cell_type": "code",
   "execution_count": 10,
   "id": "6a47e5dd",
   "metadata": {},
   "outputs": [
    {
     "name": "stdout",
     "output_type": "stream",
     "text": [
      "Probability of finding a property with 2 bathrooms in Abbotsford: 0.339\n"
     ]
    }
   ],
   "source": [
    "# Calculate the proportion of properties with exactly 2 bathrooms\n",
    "p_two_bathrooms = (abbotsford_data['Bathroom'] == 2).mean()\n",
    "\n",
    "# Output the probability rounded to 3 decimal places\n",
    "print(f\"Probability of finding a property with 2 bathrooms in Abbotsford: {p_two_bathrooms:.3f}\")"
   ]
  },
  {
   "cell_type": "code",
   "execution_count": null,
   "id": "37845618",
   "metadata": {},
   "outputs": [],
   "source": []
  }
 ],
 "metadata": {
  "kernelspec": {
   "display_name": "Python 3 (ipykernel)",
   "language": "python",
   "name": "python3"
  },
  "language_info": {
   "codemirror_mode": {
    "name": "ipython",
    "version": 3
   },
   "file_extension": ".py",
   "mimetype": "text/x-python",
   "name": "python",
   "nbconvert_exporter": "python",
   "pygments_lexer": "ipython3",
   "version": "3.11.5"
  }
 },
 "nbformat": 4,
 "nbformat_minor": 5
}
